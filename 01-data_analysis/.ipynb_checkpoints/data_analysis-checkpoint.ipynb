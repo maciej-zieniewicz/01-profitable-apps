{
 "cells": [
  {
   "cell_type": "markdown",
   "metadata": {},
   "source": [
    "# Profit mobile apps - data cleaning"
   ]
  },
  {
   "cell_type": "markdown",
   "metadata": {},
   "source": [
    "### Opening datasets from different folder and defining open_dataset() function"
   ]
  },
  {
   "cell_type": "code",
   "execution_count": 31,
   "metadata": {},
   "outputs": [],
   "source": [
    "import os\n",
    "from csv import reader\n",
    "\n",
    "\n",
    "def open_dataset(file_name):        \n",
    "    fileDir = os.path.dirname(os.path.realpath('__file__'))\n",
    "    data_dir = os.path.join(fileDir, '../00-datasets')\n",
    "    data_dir = os.path.abspath(os.path.realpath(data_dir))\n",
    "    \n",
    "    opened_file = open(data_dir + file_name, encoding=\"utf8\")\n",
    "    read_file = reader(opened_file)\n",
    "    data = list(read_file)\n",
    "    return data"
   ]
  },
  {
   "cell_type": "markdown",
   "metadata": {},
   "source": [
    "### Open both datasets and save in 'google_store' and 'apple_store'"
   ]
  },
  {
   "cell_type": "code",
   "execution_count": 32,
   "metadata": {},
   "outputs": [],
   "source": [
    "google_store = open_dataset('/googleplaystore.csv')\n",
    "apple_store = open_dataset('/AppleStore.csv')"
   ]
  },
  {
   "cell_type": "markdown",
   "metadata": {},
   "source": [
    "### Explore_data() function for displaying datatsets in readable format"
   ]
  },
  {
   "cell_type": "code",
   "execution_count": 33,
   "metadata": {},
   "outputs": [],
   "source": [
    "def explore_data(dataset, start, end, rows_and_columns=False):\n",
    "    dataset_slice = dataset[start:end]    \n",
    "    for row in dataset_slice:\n",
    "        print(row)\n",
    "        print('\\n') # adds a new (empty) line after each row\n",
    "\n",
    "    if rows_and_columns:\n",
    "        print('Number of rows:', len(dataset))\n",
    "        print('Number of columns:', len(dataset[0]))"
   ]
  },
  {
   "cell_type": "code",
   "execution_count": 34,
   "metadata": {},
   "outputs": [
    {
     "name": "stdout",
     "output_type": "stream",
     "text": [
      "Google Store header and first 3 rows:\n",
      "\n",
      "Header: ['App', 'Category', 'Rating', 'Reviews', 'Size', 'Installs', 'Type', 'Price', 'Content Rating', 'Genres', 'Last Updated', 'Current Ver', 'Android Ver'] \n",
      "\n",
      "['Photo Editor & Candy Camera & Grid & ScrapBook', 'ART_AND_DESIGN', '4.1', '159', '19M', '10,000+', 'Free', '0', 'Everyone', 'Art & Design', 'January 7, 2018', '1.0.0', '4.0.3 and up']\n",
      "\n",
      "\n",
      "['Coloring book moana', 'ART_AND_DESIGN', '3.9', '967', '14M', '500,000+', 'Free', '0', 'Everyone', 'Art & Design;Pretend Play', 'January 15, 2018', '2.0.0', '4.0.3 and up']\n",
      "\n",
      "\n",
      "['U Launcher Lite – FREE Live Cool Themes, Hide Apps', 'ART_AND_DESIGN', '4.7', '87510', '8.7M', '5,000,000+', 'Free', '0', 'Everyone', 'Art & Design', 'August 1, 2018', '1.2.4', '4.0.3 and up']\n",
      "\n",
      "\n",
      "Number of rows: 10841\n",
      "Number of columns: 13\n",
      "\n",
      "Apple Store header and first 3 rows:\n",
      "\n",
      "Header: ['id', 'track_name', 'size_bytes', 'currency', 'price', 'rating_count_tot', 'rating_count_ver', 'user_rating', 'user_rating_ver', 'ver', 'cont_rating', 'prime_genre', 'sup_devices.num', 'ipadSc_urls.num', 'lang.num', 'vpp_lic'] \n",
      "\n",
      "['284882215', 'Facebook', '389879808', 'USD', '0.0', '2974676', '212', '3.5', '3.5', '95.0', '4+', 'Social Networking', '37', '1', '29', '1']\n",
      "\n",
      "\n",
      "['389801252', 'Instagram', '113954816', 'USD', '0.0', '2161558', '1289', '4.5', '4.0', '10.23', '12+', 'Photo & Video', '37', '0', '29', '1']\n",
      "\n",
      "\n",
      "['529479190', 'Clash of Clans', '116476928', 'USD', '0.0', '2130805', '579', '4.5', '4.5', '9.24.12', '9+', 'Games', '38', '5', '18', '1']\n",
      "\n",
      "\n",
      "Number of rows: 7197\n",
      "Number of columns: 16\n"
     ]
    }
   ],
   "source": [
    "google_store_header = google_store[0]\n",
    "apple_store_header = apple_store[0]\n",
    "\n",
    "print('Google Store header and first 3 rows:\\n')\n",
    "print('Header:', google_store_header, '\\n')\n",
    "explore_data(google_store[1:], 0, 3, True)\n",
    "\n",
    "print('\\nApple Store header and first 3 rows:\\n')\n",
    "print('Header:', apple_store_header, '\\n')\n",
    "explore_data(apple_store[1:], 0, 3, True)"
   ]
  },
  {
   "cell_type": "markdown",
   "metadata": {},
   "source": [
    "## Descriptions based on info from sources:\n",
    "- https://www.kaggle.com/lava18/google-play-store-apps\n",
    "- https://www.kaggle.com/ramamet4/app-store-apple-data-set-10k-apps\n",
    "\n",
    "\n",
    "### For google_store cols:\n",
    "\n",
    "| Column name | Description |\n",
    "|:-:|:-:|\n",
    "| 'App'      | Application name    |\n",
    "| 'Category' | Category the app belongs to |\n",
    "| 'Rating' | Overall user rating of the app (as when scraped)|\n",
    "| 'Reviews'|Number of user reviews for the app (as when scraped)|\n",
    "| 'Size'| Size of the app (as when scraped)|\n",
    "| 'Installs'| Number of user downloads/installs for the app (as when scraped)|\n",
    "| 'Type'| Paid or Free|\n",
    "| 'Price'| Price of the app (as when scraped)|\n",
    "| 'Content Rating'| Age group the app is targeted at - Children / Mature 21+ / Adult |\n",
    "| 'Genres'| An app can belong to multiple genres (apart from its main category). For eg, a musical family game will belong to Music, Game, Family genres. |\n",
    "| 'Last Updated'| Date when the app was last updated on Play Store (as when scraped)|\n",
    "| 'Current Ver' |Current version of the app available on Play Store (as when scraped)|\n",
    "| 'Android Ver'| Min required Android version (as when scraped)|\n",
    "\n",
    "### For apple_store cols:\n",
    "\n",
    "\n",
    "| Column name | Description |\n",
    "|:-:|:-:|\n",
    "| 'id'      | App ID \t| \n",
    "| 'track_name'   | App Name        |\n",
    "| 'size_bytes' | Size (bytes)|\n",
    "|\"currency\" | Currency Type|\n",
    "|\"price\" | Price amount|\n",
    "| \"rating_count_tot\" | User Rating counts (for all version)|\n",
    "| \"rating_count_ver\" | User Rating counts (for current version)|\n",
    "| \"user_rating\" | Average User Rating value (for all version) |\n",
    "| \"user_rating_ver\" | Average User Rating value (for current version) |\n",
    "| \"ver\" | Latest version code|\n",
    "| \"cont_rating\" | Content Rating |\n",
    "| \"prime_genre\" | Primary Genre |\n",
    "| \"sup_devices.num\" | Number of supporting devices |\n",
    "| \"ipadSc_urls.num\" | Number of screenshots showed for display |\n",
    "| \"lang.num\" | Number of supported languages |\n",
    "| \"vpp_lic\" | Vpp Device Based Licensing Enabled ||\n"
   ]
  },
  {
   "cell_type": "markdown",
   "metadata": {},
   "source": [
    "### Deleting row number 10473 from google_store because of missing data in Category column"
   ]
  },
  {
   "cell_type": "code",
   "execution_count": 35,
   "metadata": {},
   "outputs": [
    {
     "name": "stdout",
     "output_type": "stream",
     "text": [
      "['App', 'Category', 'Rating', 'Reviews', 'Size', 'Installs', 'Type', 'Price', 'Content Rating', 'Genres', 'Last Updated', 'Current Ver', 'Android Ver'] \n",
      "missing \"Category\"\n",
      " ['Life Made WI-Fi Touchscreen Photo Frame', '1.9', '19', '3.0M', '1,000+', 'Free', '0', 'Everyone', '', 'February 11, 2018', '1.0.19', '4.0 and up']\n"
     ]
    }
   ],
   "source": [
    "print(google_store_header,'\\nmissing \"Category\"\\n', google_store[10473])"
   ]
  },
  {
   "cell_type": "code",
   "execution_count": 36,
   "metadata": {},
   "outputs": [],
   "source": [
    "del google_store[10473]"
   ]
  },
  {
   "cell_type": "markdown",
   "metadata": {},
   "source": [
    "### Deleting column 0 from `apple_store` to use find_duplicates() on both datasets"
   ]
  },
  {
   "cell_type": "code",
   "execution_count": 37,
   "metadata": {},
   "outputs": [
    {
     "name": "stdout",
     "output_type": "stream",
     "text": [
      "['track_name', 'size_bytes', 'currency', 'price', 'rating_count_tot', 'rating_count_ver', 'user_rating', 'user_rating_ver', 'ver', 'cont_rating', 'prime_genre', 'sup_devices.num', 'ipadSc_urls.num', 'lang.num', 'vpp_lic']\n",
      "\n",
      "\n",
      "['Facebook', '389879808', 'USD', '0.0', '2974676', '212', '3.5', '3.5', '95.0', '4+', 'Social Networking', '37', '1', '29', '1']\n",
      "\n",
      "\n",
      "['Instagram', '113954816', 'USD', '0.0', '2161558', '1289', '4.5', '4.0', '10.23', '12+', 'Photo & Video', '37', '0', '29', '1']\n",
      "\n",
      "\n",
      "Number of rows: 7198\n",
      "Number of columns: 15\n"
     ]
    }
   ],
   "source": [
    "for record in apple_store:\n",
    "    del record[ :1]\n",
    "\n",
    "explore_data(apple_store, 0, 3, True)"
   ]
  },
  {
   "cell_type": "markdown",
   "metadata": {},
   "source": [
    "### Finding number of duplicates in both datasets"
   ]
  },
  {
   "cell_type": "code",
   "execution_count": 38,
   "metadata": {},
   "outputs": [],
   "source": [
    "def find_duplicates(dataset):\n",
    "    duplicates = []\n",
    "    unique = []\n",
    "    for row in dataset[1:]:\n",
    "        if row[0] in unique:\n",
    "            duplicates.append(row[0])\n",
    "        else:\n",
    "            unique.append(row[0])\n",
    "            \n",
    "    return duplicates"
   ]
  },
  {
   "cell_type": "code",
   "execution_count": 39,
   "metadata": {},
   "outputs": [
    {
     "name": "stdout",
     "output_type": "stream",
     "text": [
      "Number of duplicates in apple_store:\n",
      "2\n",
      "Number of duplicates in google_store:\n",
      "1181\n"
     ]
    }
   ],
   "source": [
    "google_duplicates_check = find_duplicates(google_store)\n",
    "apple_duplicates_check = find_duplicates(apple_store)\n",
    "\n",
    "print('Number of duplicates in apple_store:\\n' + str(len(apple_duplicates_check)))\n",
    "print('Number of duplicates in google_store:\\n' + str(len(google_duplicates_check)))"
   ]
  },
  {
   "cell_type": "markdown",
   "metadata": {},
   "source": [
    "### Find all unique records with max_value of reviews in google_store"
   ]
  },
  {
   "cell_type": "code",
   "execution_count": 43,
   "metadata": {},
   "outputs": [
    {
     "name": "stdout",
     "output_type": "stream",
     "text": [
      "True 9659 9659\n"
     ]
    }
   ],
   "source": [
    "reviews_max = {}\n",
    "\n",
    "for row in google_store[1:]:\n",
    "    name = row[0]\n",
    "    n_reviews = int(row[3])\n",
    "    \n",
    "    if (name in reviews_max) and (reviews_max[name] < n_reviews):\n",
    "        reviews_max[name] = n_reviews\n",
    "    elif name not in reviews_max:\n",
    "        reviews_max[name] = n_reviews\n",
    "    \n",
    "\n",
    "n_searched_records = len(google_store[1:]) - len(google_duplicates_check)\n",
    "print(n_searched_records == len(reviews_max), n_searched_records, len(reviews_max))"
   ]
  },
  {
   "cell_type": "markdown",
   "metadata": {},
   "source": [
    "### Delete duplicates in google_store - store new list of cleaned data "
   ]
  },
  {
   "cell_type": "code",
   "execution_count": 45,
   "metadata": {},
   "outputs": [
    {
     "name": "stdout",
     "output_type": "stream",
     "text": [
      "['Photo Editor & Candy Camera & Grid & ScrapBook', 'ART_AND_DESIGN', '4.1', '159', '19M', '10,000+', 'Free', '0', 'Everyone', 'Art & Design', 'January 7, 2018', '1.0.0', '4.0.3 and up']\n",
      "\n",
      "\n",
      "['U Launcher Lite – FREE Live Cool Themes, Hide Apps', 'ART_AND_DESIGN', '4.7', '87510', '8.7M', '5,000,000+', 'Free', '0', 'Everyone', 'Art & Design', 'August 1, 2018', '1.2.4', '4.0.3 and up']\n",
      "\n",
      "\n",
      "['Sketch - Draw & Paint', 'ART_AND_DESIGN', '4.5', '215644', '25M', '50,000,000+', 'Free', '0', 'Teen', 'Art & Design', 'June 8, 2018', 'Varies with device', '4.2 and up']\n",
      "\n",
      "\n",
      "Number of rows: 9659\n",
      "Number of columns: 13\n"
     ]
    }
   ],
   "source": [
    "google_store_clean = []\n",
    "already_added = []\n",
    "\n",
    "\n",
    "for record in google_store[1:]:\n",
    "    name = record[0]\n",
    "    n_reviews = int(record[3])\n",
    "    if (n_reviews == reviews_max[name]) and (name not in already_added):\n",
    "        google_store_clean.append(record)\n",
    "        already_added.append(name)\n",
    "        \n",
    "explore_data(google_store_clean, 0, 3, True)"
   ]
  },
  {
   "cell_type": "markdown",
   "metadata": {},
   "source": [
    "### Remove non-english apps\n",
    "english_name() checks if app name contains at least 4 symbols with ASCII code value more than 127."
   ]
  },
  {
   "cell_type": "code",
   "execution_count": 46,
   "metadata": {},
   "outputs": [
    {
     "name": "stdout",
     "output_type": "stream",
     "text": [
      "True\n",
      "True\n",
      "True\n",
      "True\n",
      "True\n",
      "True\n",
      "False\n"
     ]
    }
   ],
   "source": [
    "def english_name(name):\n",
    "    n_non_english_char = 0\n",
    "    for character in name:\n",
    "        if ord(character) > 127 and n_non_english_char == 3:\n",
    "            return False\n",
    "        elif ord(character) > 127:\n",
    "            n_non_english_char += 1\n",
    "    return True\n",
    "\n",
    "print(english_name('Instagram')) # returns True \n",
    "print(english_name('Surówka')) # returns False \n",
    "print(english_name('Facebook')) # returns True \n",
    "print(english_name('AO & AO')) # returns True\n",
    "print(english_name('Docs To Go™ Free Office Suite')) # returns True\n",
    "print(english_name('Instachat 😜')) # returns True\n",
    "print(english_name('爱奇艺PPS -《欢乐颂2》电视剧热播')) # returns False - correct"
   ]
  },
  {
   "cell_type": "code",
   "execution_count": 49,
   "metadata": {},
   "outputs": [
    {
     "name": "stdout",
     "output_type": "stream",
     "text": [
      "google_store_cleaned_en:\n",
      "['Photo Editor & Candy Camera & Grid & ScrapBook', 'ART_AND_DESIGN', '4.1', '159', '19M', '10,000+', 'Free', '0', 'Everyone', 'Art & Design', 'January 7, 2018', '1.0.0', '4.0.3 and up']\n",
      "\n",
      "\n",
      "['U Launcher Lite – FREE Live Cool Themes, Hide Apps', 'ART_AND_DESIGN', '4.7', '87510', '8.7M', '5,000,000+', 'Free', '0', 'Everyone', 'Art & Design', 'August 1, 2018', '1.2.4', '4.0.3 and up']\n",
      "\n",
      "\n",
      "Number of rows: 9614\n",
      "Number of columns: 13\n",
      "\n",
      "apple_store_cleaned_en:\n",
      "['Facebook', '389879808', 'USD', '0.0', '2974676', '212', '3.5', '3.5', '95.0', '4+', 'Social Networking', '37', '1', '29', '1']\n",
      "\n",
      "\n",
      "['Instagram', '113954816', 'USD', '0.0', '2161558', '1289', '4.5', '4.0', '10.23', '12+', 'Photo & Video', '37', '0', '29', '1']\n",
      "\n",
      "\n",
      "Number of rows: 6183\n",
      "Number of columns: 15\n"
     ]
    }
   ],
   "source": [
    "def english_dataset(previous_list):\n",
    "    cleaned_list =[]\n",
    "    for record in previous_list:\n",
    "        name = record[0]\n",
    "        if english_name(name):\n",
    "            cleaned_list.append(record)\n",
    "    return cleaned_list\n",
    "\n",
    "google_store_cleaned_en = english_dataset(google_store_clean)\n",
    "apple_store_cleaned_en = english_dataset(apple_store[1:])\n",
    "\n",
    "print('google_store_cleaned_en:')\n",
    "explore_data(google_store_cleaned_en, 0, 2, True)\n",
    "print('\\napple_store_cleaned_en:')\n",
    "explore_data(apple_store_cleaned_en, 0, 2, True)"
   ]
  },
  {
   "cell_type": "markdown",
   "metadata": {},
   "source": [
    "### Choosing only free apps from both datasets"
   ]
  },
  {
   "cell_type": "code",
   "execution_count": 50,
   "metadata": {},
   "outputs": [
    {
     "name": "stdout",
     "output_type": "stream",
     "text": [
      "['Photo Editor & Candy Camera & Grid & ScrapBook', 'ART_AND_DESIGN', '4.1', '159', '19M', '10,000+', 'Free', '0', 'Everyone', 'Art & Design', 'January 7, 2018', '1.0.0', '4.0.3 and up']\n",
      "\n",
      "\n",
      "['U Launcher Lite – FREE Live Cool Themes, Hide Apps', 'ART_AND_DESIGN', '4.7', '87510', '8.7M', '5,000,000+', 'Free', '0', 'Everyone', 'Art & Design', 'August 1, 2018', '1.2.4', '4.0.3 and up']\n",
      "\n",
      "\n",
      "Number of rows: 8864\n",
      "Number of columns: 13\n",
      "['Facebook', '389879808', 'USD', '0.0', '2974676', '212', '3.5', '3.5', '95.0', '4+', 'Social Networking', '37', '1', '29', '1']\n",
      "\n",
      "\n",
      "['Instagram', '113954816', 'USD', '0.0', '2161558', '1289', '4.5', '4.0', '10.23', '12+', 'Photo & Video', '37', '0', '29', '1']\n",
      "\n",
      "\n",
      "Number of rows: 3222\n",
      "Number of columns: 15\n"
     ]
    }
   ],
   "source": [
    "google_cleaned_free_apps = []\n",
    "apple_cleaned_free_apps = []\n",
    "\n",
    "for app in google_store_cleaned_en:\n",
    "    if app[7] == '0':\n",
    "        google_cleaned_free_apps.append(app)\n",
    "        \n",
    "for app in apple_store_cleaned_en:\n",
    "    if float(app[3]) == 0.0:\n",
    "         apple_cleaned_free_apps.append(app)\n",
    "        \n",
    "explore_data(google_cleaned_free_apps, 0, 2, True)\n",
    "explore_data(apple_cleaned_free_apps, 0, 2, True)"
   ]
  },
  {
   "cell_type": "markdown",
   "metadata": {},
   "source": [
    "# Profit mobile apps - data analysis"
   ]
  },
  {
   "cell_type": "code",
   "execution_count": null,
   "metadata": {},
   "outputs": [],
   "source": []
  }
 ],
 "metadata": {
  "kernelspec": {
   "display_name": "Python 3",
   "language": "python",
   "name": "python3"
  },
  "language_info": {
   "codemirror_mode": {
    "name": "ipython",
    "version": 3
   },
   "file_extension": ".py",
   "mimetype": "text/x-python",
   "name": "python",
   "nbconvert_exporter": "python",
   "pygments_lexer": "ipython3",
   "version": "3.7.3"
  }
 },
 "nbformat": 4,
 "nbformat_minor": 2
}
