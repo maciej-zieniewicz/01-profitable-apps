{
 "cells": [
  {
   "cell_type": "markdown",
   "metadata": {},
   "source": [
    "# Profit mobile apps analysis"
   ]
  },
  {
   "cell_type": "markdown",
   "metadata": {},
   "source": [
    "### Opening datasets from different folder and defining open_dataset() function"
   ]
  },
  {
   "cell_type": "code",
   "execution_count": 2,
   "metadata": {},
   "outputs": [],
   "source": [
    "import os\n",
    "from csv import reader\n",
    "\n",
    "fileDir = os.path.dirname(os.path.realpath('__file__'))\n",
    "data_dir = os.path.join(fileDir, '../00-datasets')\n",
    "data_dir = os.path.abspath(os.path.realpath(data_dir))\n",
    "\n",
    "def open_dataset(file_name):        \n",
    "    opened_file = open(file_name, encoding=\"utf8\")\n",
    "    read_file = reader(opened_file)\n",
    "    data = list(read_file)\n",
    "    return data"
   ]
  },
  {
   "cell_type": "markdown",
   "metadata": {},
   "source": [
    "### Open both datasets and save in 'google_store' and 'apple_store'"
   ]
  },
  {
   "cell_type": "code",
   "execution_count": 3,
   "metadata": {},
   "outputs": [],
   "source": [
    "google_store = open_dataset(data_dir + '/googleplaystore.csv')\n",
    "apple_store = open_dataset(data_dir + '/AppleStore.csv')"
   ]
  },
  {
   "cell_type": "markdown",
   "metadata": {},
   "source": [
    "### Explore_data() function for displaying datatsets in readable format"
   ]
  },
  {
   "cell_type": "code",
   "execution_count": 7,
   "metadata": {},
   "outputs": [],
   "source": [
    "def explore_data(dataset, start, end, rows_and_columns=False):\n",
    "    dataset_slice = dataset[start:end]    \n",
    "    for row in dataset_slice:\n",
    "        print(row)\n",
    "        print('\\n') # adds a new (empty) line after each row\n",
    "\n",
    "    if rows_and_columns:\n",
    "        print('Number of rows:', len(dataset))\n",
    "        print('Number of columns:', len(dataset[0]))"
   ]
  },
  {
   "cell_type": "code",
   "execution_count": 13,
   "metadata": {},
   "outputs": [
    {
     "name": "stdout",
     "output_type": "stream",
     "text": [
      "Google Store header and first 3 rows:\n",
      "\n",
      "Header: ['App', 'Category', 'Rating', 'Reviews', 'Size', 'Installs', 'Type', 'Price', 'Content Rating', 'Genres', 'Last Updated', 'Current Ver', 'Android Ver'] \n",
      "\n",
      "['Photo Editor & Candy Camera & Grid & ScrapBook', 'ART_AND_DESIGN', '4.1', '159', '19M', '10,000+', 'Free', '0', 'Everyone', 'Art & Design', 'January 7, 2018', '1.0.0', '4.0.3 and up']\n",
      "\n",
      "\n",
      "['Coloring book moana', 'ART_AND_DESIGN', '3.9', '967', '14M', '500,000+', 'Free', '0', 'Everyone', 'Art & Design;Pretend Play', 'January 15, 2018', '2.0.0', '4.0.3 and up']\n",
      "\n",
      "\n",
      "['U Launcher Lite – FREE Live Cool Themes, Hide Apps', 'ART_AND_DESIGN', '4.7', '87510', '8.7M', '5,000,000+', 'Free', '0', 'Everyone', 'Art & Design', 'August 1, 2018', '1.2.4', '4.0.3 and up']\n",
      "\n",
      "\n",
      "Number of rows: 10841\n",
      "Number of columns: 13\n",
      "\n",
      "Apple Store header and first 3 rows:\n",
      "\n",
      "Header: ['id', 'track_name', 'size_bytes', 'currency', 'price', 'rating_count_tot', 'rating_count_ver', 'user_rating', 'user_rating_ver', 'ver', 'cont_rating', 'prime_genre', 'sup_devices.num', 'ipadSc_urls.num', 'lang.num', 'vpp_lic'] \n",
      "\n",
      "['284882215', 'Facebook', '389879808', 'USD', '0.0', '2974676', '212', '3.5', '3.5', '95.0', '4+', 'Social Networking', '37', '1', '29', '1']\n",
      "\n",
      "\n",
      "['389801252', 'Instagram', '113954816', 'USD', '0.0', '2161558', '1289', '4.5', '4.0', '10.23', '12+', 'Photo & Video', '37', '0', '29', '1']\n",
      "\n",
      "\n",
      "['529479190', 'Clash of Clans', '116476928', 'USD', '0.0', '2130805', '579', '4.5', '4.5', '9.24.12', '9+', 'Games', '38', '5', '18', '1']\n",
      "\n",
      "\n",
      "Number of rows: 7197\n",
      "Number of columns: 16\n"
     ]
    }
   ],
   "source": [
    "google_store_header = google_store[0]\n",
    "apple_store_header = apple_store[0]\n",
    "\n",
    "print('Google Store header and first 3 rows:\\n')\n",
    "print('Header:', google_store_header, '\\n')\n",
    "explore_data(google_store[1:], 0, 3, True)\n",
    "\n",
    "print('\\nApple Store header and first 3 rows:\\n')\n",
    "print('Header:', apple_store_header, '\\n')\n",
    "explore_data(apple_store[1:], 0, 3, True)"
   ]
  },
  {
   "cell_type": "markdown",
   "metadata": {},
   "source": [
    "## Descriptions based on info from sources:\n",
    "- https://www.kaggle.com/lava18/google-play-store-apps\n",
    "- https://www.kaggle.com/ramamet4/app-store-apple-data-set-10k-apps\n",
    "\n",
    "\n",
    "### For google_store cols:\n",
    "\n",
    "| Column name | Description |\n",
    "|:-:|:-:|\n",
    "| 'App'      | Application name    |\n",
    "| 'Category' | Category the app belongs to |\n",
    "| 'Rating' | Overall user rating of the app (as when scraped)|\n",
    "| 'Reviews'|Number of user reviews for the app (as when scraped)|\n",
    "| 'Size'| Size of the app (as when scraped)|\n",
    "| 'Installs'| Number of user downloads/installs for the app (as when scraped)|\n",
    "| 'Type'| Paid or Free|\n",
    "| 'Price'| Price of the app (as when scraped)|\n",
    "| 'Content Rating'| Age group the app is targeted at - Children / Mature 21+ / Adult |\n",
    "| 'Genres'| An app can belong to multiple genres (apart from its main category). For eg, a musical family game will belong to Music, Game, Family genres. |\n",
    "| 'Last Updated'| Date when the app was last updated on Play Store (as when scraped)|\n",
    "| 'Current Ver' |Current version of the app available on Play Store (as when scraped)|\n",
    "| 'Android Ver'| Min required Android version (as when scraped)|\n",
    "\n",
    "### For apple_store cols:\n",
    "\n",
    "\n",
    "| Column name | Description |\n",
    "|:-:|:-:|\n",
    "| 'id'      | App ID \t| \n",
    "| 'track_name'   | App Name        |\n",
    "| 'size_bytes' | Size (bytes)|\n",
    "|\"currency\" | Currency Type|\n",
    "|\"price\" | Price amount|\n",
    "| \"rating_count_tot\" | User Rating counts (for all version)|\n",
    "| \"rating_count_ver\" | User Rating counts (for current version)|\n",
    "| \"user_rating\" | Average User Rating value (for all version) |\n",
    "| \"user_rating_ver\" | Average User Rating value (for current version) |\n",
    "| \"ver\" | Latest version code|\n",
    "| \"cont_rating\" | Content Rating |\n",
    "| \"prime_genre\" | Primary Genre |\n",
    "| \"sup_devices.num\" | Number of supporting devices |\n",
    "| \"ipadSc_urls.num\" | Number of screenshots showed for display |\n",
    "| \"lang.num\" | Number of supported languages |\n",
    "| \"vpp_lic\" | Vpp Device Based Licensing Enabled ||\n"
   ]
  },
  {
   "cell_type": "markdown",
   "metadata": {},
   "source": [
    "### Deleting row number 10473 from google_store because of missing data in Category column"
   ]
  },
  {
   "cell_type": "code",
   "execution_count": 16,
   "metadata": {},
   "outputs": [
    {
     "name": "stdout",
     "output_type": "stream",
     "text": [
      "['App', 'Category', 'Rating', 'Reviews', 'Size', 'Installs', 'Type', 'Price', 'Content Rating', 'Genres', 'Last Updated', 'Current Ver', 'Android Ver'] \n",
      "missing \"Category\"\n",
      " ['Life Made WI-Fi Touchscreen Photo Frame', '1.9', '19', '3.0M', '1,000+', 'Free', '0', 'Everyone', '', 'February 11, 2018', '1.0.19', '4.0 and up']\n"
     ]
    }
   ],
   "source": [
    "print(google_store_header,'\\nmissing \"Category\"\\n', google_store[10473])"
   ]
  },
  {
   "cell_type": "code",
   "execution_count": 19,
   "metadata": {},
   "outputs": [],
   "source": [
    "del google_store[10473]"
   ]
  },
  {
   "cell_type": "code",
   "execution_count": null,
   "metadata": {},
   "outputs": [],
   "source": []
  }
 ],
 "metadata": {
  "kernelspec": {
   "display_name": "Python 3",
   "language": "python",
   "name": "python3"
  },
  "language_info": {
   "codemirror_mode": {
    "name": "ipython",
    "version": 3
   },
   "file_extension": ".py",
   "mimetype": "text/x-python",
   "name": "python",
   "nbconvert_exporter": "python",
   "pygments_lexer": "ipython3",
   "version": "3.7.3"
  }
 },
 "nbformat": 4,
 "nbformat_minor": 2
}
